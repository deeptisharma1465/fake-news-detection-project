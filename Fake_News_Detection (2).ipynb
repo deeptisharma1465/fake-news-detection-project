{
  "nbformat": 4,
  "nbformat_minor": 0,
  "metadata": {
    "colab": {
      "provenance": []
    },
    "kernelspec": {
      "name": "python3",
      "display_name": "Python 3"
    },
    "language_info": {
      "name": "python"
    }
  },
  "cells": [
    {
      "cell_type": "code",
      "source": [
        "# Function to predict whether a news article is fake or true\n",
        "def predict_news(text):\n",
        "    # Preprocess the text\n",
        "    processed_text = preprocess_text(text)\n",
        "\n",
        "    # Transform the text into a vector using the already fitted vectorizer\n",
        "    text_vector = vectorizer.transform([processed_text]).toarray()\n",
        "\n",
        "    # Make a prediction using the trained model\n",
        "    prediction = model.predict(text_vector)\n",
        "\n",
        "    # Return the result as 'True News' or 'Fake News'\n",
        "    return 'True News' if prediction == 0 else 'Fake News'\n",
        "\n",
        "# User input for news article\n",
        "user_input = input(\"Please enter the news article you want to check: \")\n",
        "\n",
        "# Predict and display the result\n",
        "prediction = predict_news(user_input)\n",
        "print(f\"The news you entered is predicted as: {prediction}\")\n"
      ],
      "metadata": {
        "id": "BR6uqjMKHZ7H"
      },
      "execution_count": null,
      "outputs": []
    }
  ]
}